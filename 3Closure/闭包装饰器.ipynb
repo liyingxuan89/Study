{
 "cells": [
  {
   "cell_type": "code",
   "execution_count": 4,
   "metadata": {
    "collapsed": false
   },
   "outputs": [
    {
     "name": "stdout",
     "output_type": "stream",
     "text": [
      "正在验证权限\n",
      "in f1\n",
      "正在验证权限\n",
      "in f2\n"
     ]
    }
   ],
   "source": [
    "def w1(func):\n",
    "    def inner():\n",
    "        print \"正在验证权限\"\n",
    "        func()\n",
    "    return inner\n",
    "\n",
    "def f1():\n",
    "    print \"in f1\"\n",
    "\n",
    "@w1\n",
    "def f2():\n",
    "    print 'in f2'\n",
    "    \n",
    "\n",
    "f1 = w1(f1)\n",
    "f1()\n",
    "\n",
    "f2()"
   ]
  },
  {
   "cell_type": "code",
   "execution_count": 5,
   "metadata": {
    "collapsed": false
   },
   "outputs": [
    {
     "name": "stdout",
     "output_type": "stream",
     "text": [
      "----1---\n",
      "----2---\n",
      "----3---\n",
      "<b><i>hello world-3</i></b>\n"
     ]
    }
   ],
   "source": [
    "#定义函数：完成包裹数据\n",
    "def makeBold(fn):\n",
    "    def wrapped():\n",
    "        print(\"----1---\")\n",
    "        return \"<b>\" + fn() + \"</b>\"\n",
    "    return wrapped\n",
    "\n",
    "#定义函数：完成包裹数据\n",
    "def makeItalic(fn):\n",
    "    def wrapped():\n",
    "        print(\"----2---\")\n",
    "        return \"<i>\" + fn() + \"</i>\"\n",
    "    return wrapped\n",
    "\n",
    "@makeBold\n",
    "@makeItalic\n",
    "def test3():\n",
    "    print(\"----3---\")\n",
    "    return \"hello world-3\"\n",
    "\n",
    "ret = test3()\n",
    "print(ret)"
   ]
  },
  {
   "cell_type": "code",
   "execution_count": 6,
   "metadata": {
    "collapsed": false
   },
   "outputs": [
    {
     "name": "stdout",
     "output_type": "stream",
     "text": [
      "---正在装饰2----\n",
      "---正在装饰1----\n"
     ]
    }
   ],
   "source": [
    "def w1(func):\n",
    "    print(\"---正在装饰1----\")\n",
    "    def inner():\n",
    "        print(\"---正在验证权限1----\")\n",
    "        func()\n",
    "    return inner\n",
    "\n",
    "def w2(func):\n",
    "    print(\"---正在装饰2----\")\n",
    "    def inner():\n",
    "        print(\"---正在验证权限2----\")\n",
    "        func()\n",
    "    return inner\n",
    "\n",
    "#只要python解释器执行到了这个代码,那么就会自动的进行装饰,而不是等到调用的时候才装饰的\n",
    "@w1\n",
    "@w2\n",
    "def f1():\n",
    "    print(\"---f1---\")\n",
    "\n",
    "#在调用f1之前,已经进行装饰了"
   ]
  },
  {
   "cell_type": "code",
   "execution_count": 7,
   "metadata": {
    "collapsed": false
   },
   "outputs": [
    {
     "name": "stdout",
     "output_type": "stream",
     "text": [
      "---func---1---\n",
      "---func---2---\n",
      "---func_in---1---\n",
      "----test----\n",
      "---func_in---2---\n"
     ]
    }
   ],
   "source": [
    "#装饰无参数函数\n",
    "def func(functionName):\n",
    "    print(\"---func---1---\")\n",
    "    def func_in():\n",
    "        print(\"---func_in---1---\")\n",
    "        functionName()\n",
    "        print(\"---func_in---2---\")\n",
    "\n",
    "    print(\"---func---2---\")\n",
    "    return func_in\n",
    "\n",
    "@func\n",
    "def test():\n",
    "    print(\"----test----\")\n",
    "\n",
    "\n",
    "#test = func(test)\n",
    "\n",
    "test()"
   ]
  },
  {
   "cell_type": "code",
   "execution_count": 8,
   "metadata": {
    "collapsed": false
   },
   "outputs": [
    {
     "name": "stdout",
     "output_type": "stream",
     "text": [
      "---func---1---\n",
      "---func---2---\n",
      "---func_in---1---\n",
      "----test-a=11,b=22---\n",
      "---func_in---2---\n"
     ]
    }
   ],
   "source": [
    "#装饰有参数函数\n",
    "def func(functionName):\n",
    "    print(\"---func---1---\")\n",
    "    def func_in(a, b):#如果a,b 没有定义,那么会导致16行的调用失败\n",
    "        print(\"---func_in---1---\")\n",
    "        functionName(a, b)#如果没有把a,b当做实参进行传递,那么会导致调用12行的函数失败\n",
    "        print(\"---func_in---2---\")\n",
    "\n",
    "    print(\"---func---2---\")\n",
    "    return func_in\n",
    "\n",
    "@func\n",
    "def test(a, b):\n",
    "    print(\"----test-a=%d,b=%d---\"%(a,b))\n",
    "\n",
    "\n",
    "test(11,22)"
   ]
  },
  {
   "cell_type": "code",
   "execution_count": 9,
   "metadata": {
    "collapsed": false
   },
   "outputs": [
    {
     "name": "stdout",
     "output_type": "stream",
     "text": [
      "---func---1---\n",
      "---func---2---\n",
      "---func---1---\n",
      "---func---2---\n",
      "---func_in---1---\n",
      "----test-a=11,b=22,c=33---\n",
      "---func_in---2---\n",
      "---func_in---1---\n",
      "----test-a=44,b=55,c=66,d=77---\n",
      "---func_in---2---\n"
     ]
    }
   ],
   "source": [
    "#装饰不定长参数函数\n",
    "def func(functionName):\n",
    "    print(\"---func---1---\")\n",
    "    def func_in(*args, **kwargs):#采用不定长参数的方式满足所有函数需要参数以及不需要参数的情况\n",
    "        print(\"---func_in---1---\")\n",
    "        functionName(*args, **kwargs)#这个地方,需要写*以及**,如果不写的话,那么args是元祖,而kwargs是字典\n",
    "        print(\"---func_in---2---\")\n",
    "\n",
    "    print(\"---func---2---\")\n",
    "    return func_in\n",
    "\n",
    "@func\n",
    "def test(a, b, c):\n",
    "    print(\"----test-a=%d,b=%d,c=%d---\"%(a,b,c))\n",
    "\n",
    "@func\n",
    "def test2(a, b, c, d):\n",
    "    print(\"----test-a=%d,b=%d,c=%d,d=%d---\"%(a,b,c,d))\n",
    "\n",
    "test(11,22,33)\n",
    "\n",
    "test2(44,55,66,77)"
   ]
  },
  {
   "cell_type": "code",
   "execution_count": 10,
   "metadata": {
    "collapsed": false
   },
   "outputs": [
    {
     "name": "stdout",
     "output_type": "stream",
     "text": [
      "---func---1---\n",
      "---func---2---\n",
      "---func_in---1---\n",
      "----test----\n",
      "---func_in---2---\n",
      "test return value is haha\n"
     ]
    }
   ],
   "source": [
    "#装饰有返回值的函数\n",
    "def func(functionName):\n",
    "    print(\"---func---1---\")\n",
    "    def func_in():\n",
    "        print(\"---func_in---1---\")\n",
    "        ret = functionName() #保存 返回来的haha\n",
    "        print(\"---func_in---2---\")\n",
    "        return ret #把haha返回到17行处的调用\n",
    "\n",
    "    print(\"---func---2---\")\n",
    "    return func_in\n",
    "\n",
    "@func\n",
    "def test():\n",
    "    print(\"----test----\")\n",
    "    return \"haha\"\n",
    "\n",
    "ret = test()\n",
    "print(\"test return value is %s\"%ret)"
   ]
  },
  {
   "cell_type": "code",
   "execution_count": null,
   "metadata": {
    "collapsed": true
   },
   "outputs": [],
   "source": []
  }
 ],
 "metadata": {
  "kernelspec": {
   "display_name": "Python 2",
   "language": "python",
   "name": "python2"
  },
  "language_info": {
   "codemirror_mode": {
    "name": "ipython",
    "version": 2
   },
   "file_extension": ".py",
   "mimetype": "text/x-python",
   "name": "python",
   "nbconvert_exporter": "python",
   "pygments_lexer": "ipython2",
   "version": "2.7.10rc1"
  }
 },
 "nbformat": 4,
 "nbformat_minor": 1
}
